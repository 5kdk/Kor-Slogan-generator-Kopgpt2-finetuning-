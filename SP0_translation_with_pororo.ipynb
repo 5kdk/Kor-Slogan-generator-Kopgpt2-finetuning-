{
 "cells": [
  {
   "cell_type": "code",
   "execution_count": null,
   "source": [
    "from pororo import Pororo\r\n",
    "import pandas as pd\r\n",
    "import csv\r\n",
    "\r\n",
    "'''\r\n",
    "pytorch = 1.6\r\n",
    "python >= 3.6\r\n",
    "환경에서 써볼 것\r\n",
    "'''"
   ],
   "outputs": [],
   "metadata": {}
  },
  {
   "cell_type": "code",
   "execution_count": null,
   "source": [
    "# Pororo에서 제공하는 task\r\n",
    "Pororo.available_tasks()"
   ],
   "outputs": [],
   "metadata": {}
  },
  {
   "cell_type": "code",
   "execution_count": null,
   "source": [
    "# 각 테스크를 지원하는 model 확인\r\n",
    "Pororo.available_models(\"collocation\")"
   ],
   "outputs": [],
   "metadata": {}
  },
  {
   "cell_type": "code",
   "execution_count": 2,
   "source": [
    "# 사용 방법\r\n",
    "# task=\"task name\", lang=\"language\"\r\n",
    "\r\n",
    "# 객체 생성\r\n",
    "# ner = Pororo(task=\"ner\", lang=\"en\")\r\n",
    "\r\n",
    "# 번역 객체\r\n",
    "mt = Pororo(task=\"translation\", lang=\"multi\")\r\n"
   ],
   "outputs": [],
   "metadata": {}
  },
  {
   "cell_type": "code",
   "execution_count": null,
   "source": [
    "# slogan data test\r\n",
    "df = pd.read_csv('slogans.csv',index_col=0)\r\n",
    "df"
   ],
   "outputs": [],
   "metadata": {}
  },
  {
   "cell_type": "code",
   "execution_count": null,
   "source": [
    "# english to korean\r\n",
    "\r\n",
    "def EngtoKo_Transtaion(file_name):\r\n",
    "    df = pd.read_csv(file_name, encoding=\"UTF-8\")\r\n",
    "    df = df.dropna()\r\n",
    "    en_contexts = df['company'].tolist()\r\n",
    "    en_slogans = df['slogan'].tolist()\r\n",
    "\r\n",
    "    mt = Pororo(task=\"translation\", lang=\"multi\")\r\n",
    "\r\n",
    "    ko_contexts = []\r\n",
    "    ko_slogans = []\r\n",
    "    for row in range(0, len(en_contexts)):\r\n",
    "        ko_ct = mt(en_contexts[row], src='en', tgt='ko')\r\n",
    "        ko_sg = mt(en_slogans[row], src='en', tgt='ko')\r\n",
    "        ko_contexts.append(ko_ct)\r\n",
    "        ko_slogans.append(ko_sg)\r\n",
    "\r\n",
    "   \r\n",
    "    df = pd.DataFrame(ko_contexts, columns=['company'])\r\n",
    "    df['slogan'] = ko_slogans\r\n",
    "    df.to_csv('./pororo_slogans.csv', 'a', encoding='UTF-8', index= None)\r\n",
    "\r\n",
    "\r\n",
    "transtation = EngtoKo_Transtaion('./slogans.csv')\r\n"
   ],
   "outputs": [],
   "metadata": {}
  }
 ],
 "metadata": {
  "orig_nbformat": 4,
  "language_info": {
   "name": "python",
   "version": "3.7.10",
   "mimetype": "text/x-python",
   "codemirror_mode": {
    "name": "ipython",
    "version": 3
   },
   "pygments_lexer": "ipython3",
   "nbconvert_exporter": "python",
   "file_extension": ".py"
  },
  "kernelspec": {
   "name": "python3",
   "display_name": "Python 3.7.10 64-bit ('AI_exam': conda)"
  },
  "interpreter": {
   "hash": "293ef13038b1144d4811de228cdfb91e615f2f48e1a0c87d3a386cf88ee0761d"
  }
 },
 "nbformat": 4,
 "nbformat_minor": 2
}