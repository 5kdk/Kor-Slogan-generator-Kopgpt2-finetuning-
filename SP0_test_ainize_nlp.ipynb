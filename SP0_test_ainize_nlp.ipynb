{
 "cells": [
  {
   "cell_type": "code",
   "execution_count": 25,
   "source": [
    "import requests\r\n",
    "import json\r\n",
    "\r\n",
    "r = requests.post(\r\n",
    "    'https://train-nqhy6iii8xyt5739th8f-gpt2-train-teachable-ainize.endpoint.ainize.ai/predictions/gpt-2-ko-small-finetune', #기업설명, 슬로건\r\n",
    "    #'https://train-yf2rrqjish0iiaionifu-gpt2-train-teachable-ainize.endpoint.ainize.ai/predictions/gpt-2-ko-small-finetune', #슬로건만 있는 api\r\n",
    "    headers = {'Content-Type' : 'application/json'\r\n",
    "               },\r\n",
    "    data = json.dumps({\r\n",
    "        \"text\": \"청년, 신용카드\",\r\n",
    "        'num_samples' : 10,\r\n",
    "        'length': 20\r\n",
    "    }))\r\n",
    "\r\n",
    "r.json()\r\n",
    "\r\n"
   ],
   "outputs": [
    {
     "output_type": "execute_result",
     "data": {
      "text/plain": [
       "['청년, 신용카드 한 장으로 대화하는 세상 \\n신한BC카드,대한민국 No.1카드 #NEW',\n",
       " '청년, 신용카드로는 갈 수 없는 \\n신한은행,더 좋은 대한민국을 만드는 행복 금융 多 母',\n",
       " '청년, 신용카드 하나로 혜택 챙길 수 있습니다 \\n신한카드 마이신한카드,이제는 마이',\n",
       " '청년, 신용카드처럼 딱, 카드 같다 \\n신한카드,대한민국 소비자들을 행복하게 롯데카드',\n",
       " '청년, 신용카드 혜택으로 지갑을 활짝 열다 \\n네이버 페이, 네이버페이의 혜',\n",
       " '청년, 신용카드 돌려막기 \\n삼성화재,상상을 바꾸다, 사고뭉치 톡 쏘는 보험',\n",
       " '청년, 신용카드도 신용카드와 다르다, 내 신용대출도 \\n네이버페이,모바일에서',\n",
       " '청년, 신용카드나 체크카드를 안 썼어? \\nKB국민카드,NE능률로',\n",
       " '청년, 신용카드도 역시 역시, \\nLG유플러스 초고속인터넷,올여름, 더',\n",
       " '청년, 신용카드 하나로 온 가족 \\n신한BNPP,한우 브랜드로 1+1에 더']"
      ]
     },
     "metadata": {},
     "execution_count": 25
    }
   ],
   "metadata": {}
  },
  {
   "cell_type": "code",
   "execution_count": 68,
   "source": [
    "company = \"어쌔씬크리드 발할라\" #(최대 10글자)\r\n",
    "context = \"오픈월드 게임\" #(최대 15글자)\r\n",
    "\r\n",
    "input = company + ',' + context + ','\r\n",
    "\r\n",
    "r = requests.post(\r\n",
    "    'https://train-nqhy6iii8xyt5739th8f-gpt2-train-teachable-ainize.endpoint.ainize.ai/predictions/gpt-2-ko-small-finetune', #기업설명, 슬로건\r\n",
    "    headers = {'Content-Type' : 'application/json'\r\n",
    "               },\r\n",
    "    data=json.dumps({\r\n",
    "  \"text\": input,\r\n",
    "  \"num_samples\": 10,\r\n",
    "  \"length\": 20\r\n",
    "    }))\r\n",
    "\r\n",
    "#print(r.json())\r\n",
    "print('input :' + input)\r\n",
    "print('='*50)\r\n",
    "for slogan in r.json():\r\n",
    "    slogan = slogan.split('\\n')[0]\r\n",
    "    slogan = slogan.split(',')[2:]\r\n",
    "    slogan = ', '.join(slogan)\r\n",
    "    if slogan :\r\n",
    "        print(slogan)\r\n",
    "        print('='*50)"
   ],
   "outputs": [
    {
     "output_type": "stream",
     "name": "stdout",
     "text": [
      "input :어쌔씬크리드 발할라,오픈월드 게임,\n",
      "==================================================\n",
      "새로운 세상이 열릴때 \n",
      "==================================================\n",
      "이번엔 런앤런 월드 \n",
      "==================================================\n",
      "대작 MMORPG가 아니다 \n",
      "==================================================\n",
      "신데렐라 스토리 \n",
      "==================================================\n",
      "내가 원하는 건 오픈월드에서 만나는 것 \n",
      "==================================================\n",
      "어떻게 보면 게임의 재미를 살려낸 작품 \n",
      "==================================================\n",
      "다 함께 즐기세요,  \n",
      "==================================================\n",
      "그럴 때 \n",
      "==================================================\n",
      "Richy down \n",
      "==================================================\n",
      "나만의 세계 \n",
      "==================================================\n"
     ]
    }
   ],
   "metadata": {}
  },
  {
   "cell_type": "code",
   "execution_count": 66,
   "source": [
    "# 학습 txt\r\n",
    "\r\n",
    "\r\n",
    "company = \"벼룩마켓\" #(최대 10글자)\r\n",
    "context = \"구직 신문\" #(최대 15글자)\r\n",
    "\r\n",
    "input = company + ',' + context + ','\r\n",
    "\r\n",
    "r = requests.post(\r\n",
    "    'https://train-nqhy6iii8xyt5739th8f-gpt2-train-teachable-ainize.endpoint.ainize.ai/predictions/gpt-2-ko-small-finetune', #기업설명, 슬로건\r\n",
    "    headers = {'Content-Type' : 'application/json'\r\n",
    "               },\r\n",
    "    data=json.dumps({\r\n",
    "  \"text\": input,\r\n",
    "  \"num_samples\": 10,\r\n",
    "  \"length\": 20\r\n",
    "    }))\r\n",
    "\r\n",
    "#print(r.json())\r\n",
    "print('input :' + input)\r\n",
    "print('='*50)\r\n",
    "for slogan in r.json():\r\n",
    "    slogan = slogan.split('\\n')[0]\r\n",
    "    slogan = slogan.split(',')[2:]\r\n",
    "    slogan = ', '.join(slogan)\r\n",
    "    if slogan :\r\n",
    "        print(slogan)\r\n",
    "        print('='*50)"
   ],
   "outputs": [
    {
     "output_type": "stream",
     "name": "stdout",
     "text": [
      "input :벼룩마켓,구직 신문,\n",
      "==================================================\n",
      "그럴 때 구글검색 \n",
      "==================================================\n",
      "당신의 첫 구직 정보 \n",
      "==================================================\n",
      " 스펙 쌓기,  스펙은 스펙대로 \n",
      "==================================================\n",
      "이것은 바로 그 겨울! \n",
      "==================================================\n",
      "이것만 사두세요 \n",
      "==================================================\n",
      "우리가 원하는 일자리 \n",
      "==================================================\n",
      "꿈은 구직신문에서 시작되니까,  지금부터 준비하세요 \n",
      "==================================================\n",
      " 구인업체의 정보제공,  구인구직 매칭 플랫폼 \n",
      "==================================================\n",
      "당신의 취향을 더 쉽고 편하게 \n",
      "==================================================\n",
      "청년이 무엇을 원하는지 기업 스스로 답해야지,  그 답을 찾으세요 \n",
      "==================================================\n"
     ]
    }
   ],
   "metadata": {}
  }
 ],
 "metadata": {
  "orig_nbformat": 4,
  "language_info": {
   "name": "python",
   "version": "3.7.10",
   "mimetype": "text/x-python",
   "codemirror_mode": {
    "name": "ipython",
    "version": 3
   },
   "pygments_lexer": "ipython3",
   "nbconvert_exporter": "python",
   "file_extension": ".py"
  },
  "kernelspec": {
   "name": "python3",
   "display_name": "Python 3.7.10 64-bit ('AI_exam': conda)"
  },
  "interpreter": {
   "hash": "293ef13038b1144d4811de228cdfb91e615f2f48e1a0c87d3a386cf88ee0761d"
  }
 },
 "nbformat": 4,
 "nbformat_minor": 2
}