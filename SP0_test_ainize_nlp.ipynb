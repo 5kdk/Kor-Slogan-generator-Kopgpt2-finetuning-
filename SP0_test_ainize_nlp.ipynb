{
 "cells": [
  {
   "cell_type": "code",
   "execution_count": 1,
   "source": [
    "import json\r\n",
    "import requests"
   ],
   "outputs": [],
   "metadata": {}
  },
  {
   "cell_type": "code",
   "execution_count": 2,
   "source": [
    "r =  requests.post(\r\n",
    "    'https://train-8hfh07s9jwjksi4pwjf4-gpt2-train-teachable-ainize.endpoint.ainize.ai/predictions/gpt-2-ko-small-finetune',\r\n",
    "    headers={'Content-Type': 'application/json'},\r\n",
    "    data = json.dumps({\r\n",
    "        'text': '미래',\r\n",
    "        'num_samples' : 10,\r\n",
    "        'length': 30\r\n",
    "    }))\r\n",
    "\r\n",
    "r.json()\r\n",
    "\r\n"
   ],
   "outputs": [
    {
     "output_type": "execute_result",
     "data": {
      "text/plain": [
       "['미래를 위해 \\n\"나부터 바꿔라, 내가 바꾼다 \", 당신을 위해 바',\n",
       " '미래다 \\n대한민국 1등으로 국민기업 탭을 드립니다 \" \"T',\n",
       " '미래인재상을 뽑는 시험 \\n\"일 잘하는 사람은 누구나 될 수 있고 더 열심히 일',\n",
       " '미래로 넘어갑니다 \"\\n아름다운 내일의 비전을 담아 \\'함께 만드는 세상 ',\n",
       " '미래로 나아가자 \\n\"마음의 문이 활짝 열리는 순간이 행복이 될 수 있습니',\n",
       " '미래가 바뀌면 세상이 바뀐다 \"\\n당신의 기대에 보답하겠습니다.\\n',\n",
       " '미래\\n우리 집은 대한민국입니다 \\n\"아무거나 먹지말고 나, 다',\n",
       " '미래고민 해결사 \"\\n\"내일의 숙제, 한 번쯤 답하고 싶습니다',\n",
       " '미래제어로 완성하다 \\n오늘의 행복을 지키다 넥센타이어 #NY',\n",
       " '미래도 희망이 있습니다 \"\\n함께하는 내일의 주인공  \"LO']"
      ]
     },
     "metadata": {},
     "execution_count": 2
    }
   ],
   "metadata": {}
  }
 ],
 "metadata": {
  "orig_nbformat": 4,
  "language_info": {
   "name": "python",
   "version": "3.7.10",
   "mimetype": "text/x-python",
   "codemirror_mode": {
    "name": "ipython",
    "version": 3
   },
   "pygments_lexer": "ipython3",
   "nbconvert_exporter": "python",
   "file_extension": ".py"
  },
  "kernelspec": {
   "name": "python3",
   "display_name": "Python 3.7.10 64-bit ('AI_exam': conda)"
  },
  "interpreter": {
   "hash": "293ef13038b1144d4811de228cdfb91e615f2f48e1a0c87d3a386cf88ee0761d"
  }
 },
 "nbformat": 4,
 "nbformat_minor": 2
}