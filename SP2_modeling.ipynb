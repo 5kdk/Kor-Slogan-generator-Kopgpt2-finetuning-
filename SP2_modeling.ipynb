{
 "cells": [
  {
   "cell_type": "code",
   "execution_count": 1,
   "source": [
    "# 변수 선언\r\n",
    "MODEL_NAME = \"skt/kogpt2-base-v2\"\r\n",
    "DATA_IN_PATH = \"./datasets\"\r\n",
    "DATA_OUT_PATH = \"./models\"\r\n",
    "TRAIN_DATA_FILE = \"processed_slogan.csv\"\r\n",
    "TRAIN_DATA_NAME = \"processed_slogan\"\r\n",
    "PLOT_OUT_PATH = \"./plots\""
   ],
   "outputs": [],
   "metadata": {}
  },
  {
   "cell_type": "code",
   "execution_count": 2,
   "source": [
    "from transformers import PreTrainedTokenizerFast\r\n",
    "from transformers import GPT2LMHeadModel\r\n",
    "\r\n",
    "tokenizer = PreTrainedTokenizerFast.from_pretrained(MODEL_NAME)\r\n",
    "model = GPT2LMHeadModel.from_pretrained(MODEL_NAME)"
   ],
   "outputs": [],
   "metadata": {}
  },
  {
   "cell_type": "code",
   "execution_count": 3,
   "source": [
    "TOKENS_DICT = {\r\n",
    "    'eos_token':'</s>',\r\n",
    "    'pad_token':'<pad>',\r\n",
    "    'additional_special_tokens':['<context>', '<slogan>'],\r\n",
    "}\r\n",
    "\r\n",
    "# 특수 토큰이 토크나이저에 추가되고 모델은 수정된 토크나이저에 맞게 임베딩의 크기를 조정\r\n",
    "tokenizer.add_special_tokens(TOKENS_DICT)\r\n",
    "model.resize_token_embeddings(len(tokenizer))\r\n",
    "\r\n",
    "print(tokenizer.special_tokens_map)\r\n",
    "print(model.resize_token_embeddings(len(tokenizer)))"
   ],
   "outputs": [
    {
     "output_type": "stream",
     "name": "stdout",
     "text": [
      "{'eos_token': '</s>', 'pad_token': '<pad>', 'additional_special_tokens': \"['<context>', '<slogan>']\"}\n",
      "Embedding(51202, 768)\n"
     ]
    }
   ],
   "metadata": {}
  },
  {
   "cell_type": "code",
   "execution_count": 4,
   "source": [
    "import csv\r\n",
    "import pandas as pd\r\n",
    "import matplotlib.pyplot as plt\r\n",
    "plt.style.use('seaborn')\r\n",
    "\r\n",
    "filename =  DATA_IN_PATH + '/' + TRAIN_DATA_FILE\r\n",
    "\r\n",
    "context_tkn = tokenizer.additional_special_tokens_ids[0]  # 토크나이저의 additional_special_tokens_ids[0] : <context>\r\n",
    "slogan_tkn = tokenizer.additional_special_tokens_ids[1] # 토크나이저의 additional_special_tokens_ids[1] : <slogan>\r\n",
    "pad_tkn = tokenizer.pad_token_id  #'<pad>'\r\n",
    "eos_tkn = tokenizer.eos_token_id  # </s>\r\n",
    "\r\n",
    "with open(filename, 'r', encoding='UTF-8') as csvfile:  # UTF8로 인코딩\r\n",
    "    reader = csv.reader(csvfile)\r\n",
    "    \r\n",
    "    context_list = []\r\n",
    "    slogan_list = []\r\n",
    "    seq_len_list = []\r\n",
    "    \r\n",
    "    for row in reader:\r\n",
    "        context = [context_tkn] + tokenizer.encode(row[0])\r\n",
    "        context_list.append(len(context))\r\n",
    "        \r\n",
    "        slogan = [slogan_tkn] + tokenizer.encode(row[1]) + [eos_tkn]\r\n",
    "        slogan_list.append(len(slogan))\r\n",
    "\r\n",
    "        seq_len = context + slogan\r\n",
    "        seq_len_list.append(len(seq_len))\r\n",
    "\r\n",
    "\r\n",
    "scatter_df = pd.DataFrame(context_list, columns=[\"context\"])\r\n",
    "scatter_df['slogan'] = slogan_list\r\n",
    "scatter_df['add_len'] = seq_len_list\r\n",
    "\r\n",
    "red_square = dict(markerfacecolor='r', markeredgecolor='r', marker='.')\r\n",
    "\r\n",
    "scatter_df[['context', 'slogan', 'add_len']].plot(kind='box', vert=False, flierprops=red_square, figsize=(16,2));\r\n",
    "plt.show()"
   ],
   "outputs": [
    {
     "output_type": "display_data",
     "data": {
      "text/plain": [
       "<Figure size 1152x144 with 1 Axes>"
      ],
      "image/png": "[encoded data removed]"
     },
     "metadata": {}
    }
   ],
   "metadata": {}
  },
  {
   "cell_type": "code",
   "execution_count": 5,
   "source": [
    "import torch\r\n",
    "from torch.utils.data import Dataset\r\n",
    "\r\n",
    "# https://wikidocs.net/57165\r\n",
    "# 학습용 데이터 로더\r\n",
    "\r\n",
    "SEQ_LEN = 50\r\n",
    "\r\n",
    "class SloganDataset(Dataset):\r\n",
    "  # 데이터셋의 전처리를 해주는 부분\r\n",
    "  def __init__(self, filename, tokenizer, seq_length=SEQ_LEN): # seq_length = 50\r\n",
    "\r\n",
    "    context_tkn = tokenizer.additional_special_tokens_ids[0]  # 토크나이저의 additional_special_tokens_ids[0] : <context>\r\n",
    "    slogan_tkn = tokenizer.additional_special_tokens_ids[1] # 토크나이저의 additional_special_tokens_ids[1] : <slogan>\r\n",
    "    pad_tkn = tokenizer.pad_token_id  #'<pad>'\r\n",
    "    eos_tkn = tokenizer.eos_token_id  # </s>\r\n",
    "\r\n",
    "    self.examples = []  # example 빈리스트 생성\r\n",
    "    with open(filename, 'r', encoding='UTF-8') as csvfile:  # UTF8로 인코딩\r\n",
    "      reader = csv.reader(csvfile)\r\n",
    "      # ['company', 'slogan']\r\n",
    "      # ['그린카', '그린카로 그리는 일상콘텐츠 ']\r\n",
    "      # ['웨이브, 24시간 콘텐츠 스토어', '웨이브에 있었어 ']\r\n",
    "      # ['삼성카드 카카오페이 신용카드', '귀여운 디자인에 그렇지 않은 혜택 '] ...\r\n",
    "      \r\n",
    "      for row in reader:\r\n",
    "        # 컨텍스트 및 슬로건 세그먼트 구축\r\n",
    "        context = [context_tkn] + tokenizer.encode(row[0])\r\n",
    "        # print(context) - [51200, 14005, 25306]\r\n",
    "        # print(tokenizer.decode(context)) - <context> 하이마트\r\n",
    "        slogan = [slogan_tkn] + tokenizer.encode(row[1]) + [eos_tkn]\r\n",
    "        # print(context) - [51201, 11324, 414, 10553, 30254, 422, 431, 9815, 41427, 411, 739, 1]\r\n",
    "        # print(tokenizer.decode(context)) - <slogan> OH HAPPY SALE </s>\r\n",
    "        \r\n",
    "        # 두 부분을 함께 연결\r\n",
    "        tokens = context + slogan + [pad_tkn] * ( seq_length - len(context) - len(slogan) ) # 50 길이만큼 </pad>토큰 채움\r\n",
    "\r\n",
    "        # 해당 세그먼트로 각 토큰에 주석달기 (읽을 수 있도록 주석달아줌)\r\n",
    "        segments = [context_tkn] * len(context) + [slogan_tkn] * ( seq_length - len(context) )  \r\n",
    "        # print(segments) - [51200, 51200, 51200, 51201, 51201, 51201, 51201, 51201, 51201, 51201, 51201, 51201, 51201, 51201, 51201, 51201, 51201, 51201, 51201, 51201, 51201, 51201, 51201, 51201, 51201, 51201, 51201, 51201, 51201, 51201, 51201, 51201]\r\n",
    "        # print(tokenizer.decode(segments)) - <context><context><context><slogan><slogan><slogan><slogan><slogan><slogan><slogan><slogan><slogan><slogan><slogan><slogan><slogan><slogan><slogan><slogan><slogan><slogan><slogan><slogan><slogan><slogan><slogan><slogan><slogan><slogan><slogan><slogan><slogan>\r\n",
    "\r\n",
    "        # 레이블을 -100으로 설정하여 컨텍스트, 패딩 및 <slogan> 토큰을 무시합니다.\r\n",
    "        labels = [-100] * (len(context)+1) + slogan[1:] + [-100] * ( seq_length - len(context) - len(slogan) )\r\n",
    "        #print(labels) - [-100, -100, -100, -100, 11324, 414, 10553, 30254, 422, 431, 9815, 41427, 411, 739, 1, -100, -100, -100, -100, -100, -100, -100, -100, -100, -100, -100, -100, -100, -100, -100, -100, -100]\r\n",
    "        \r\n",
    "        # 데이터셋에 전처리된 예제 추가\r\n",
    "        self.examples.append((tokens, segments, labels)) #[토큰, 세그먼트, 라벨]\r\n",
    "  \r\n",
    "  # 데이터셋의 길이. 즉, 총 샘플의 수를 적어주는 부분\r\n",
    "  # len(dataset)을 했을 때 데이터셋의 크기를 리턴할 len\r\n",
    "  def __len__(self):\r\n",
    "    return len(self.examples)\r\n",
    "\r\n",
    "  # 데이터셋에서 특정 1개의 샘플을 가져오는 함수\r\n",
    "  # dataset[i]을 했을 때 i번째 샘플을 가져오도록 하는 인덱싱을 위한 get_item\r\n",
    "  def __getitem__(self, item):\r\n",
    "    return torch.tensor(self.examples[item])\r\n",
    "\r\n",
    "\r\n",
    "# 데이터세트를 빌드하고 검증을 위해 첫 번째 배치의 차원을 표시\r\n",
    "slogan_dataset = SloganDataset(DATA_IN_PATH + '/' + TRAIN_DATA_FILE, tokenizer)\r\n",
    "print(next(iter(slogan_dataset)).size())"
   ],
   "outputs": [
    {
     "output_type": "stream",
     "name": "stdout",
     "text": [
      "torch.Size([3, 50])\n"
     ]
    }
   ],
   "metadata": {}
  },
  {
   "cell_type": "code",
   "execution_count": 6,
   "source": [
    "import math, random\r\n",
    "\r\n",
    "from torch.utils.data import DataLoader\r\n",
    "from torch.utils.data.sampler import SubsetRandomSampler\r\n",
    "\r\n",
    "# 훈련 및 검증 데이터 분할을 위한 인덱스 생성\r\n",
    "indices = list(range(len(slogan_dataset)))\r\n",
    "\r\n",
    "random.seed(100) #난수 생성\r\n",
    "random.shuffle(indices)\r\n",
    "\r\n",
    "split = math.floor(0.1 * len(slogan_dataset))\r\n",
    "train_indices, val_indices = indices[split:], indices[:split]\r\n",
    "\r\n",
    "# PyTorch 데이터 로더를 빌드\r\n",
    "train_sampler = SubsetRandomSampler(train_indices)\r\n",
    "val_sampler = SubsetRandomSampler(val_indices)\r\n",
    "\r\n",
    "train_loader = DataLoader(slogan_dataset, batch_size=32, sampler=train_sampler)\r\n",
    "val_loader = DataLoader(slogan_dataset, batch_size=64, sampler=val_sampler)\r\n"
   ],
   "outputs": [],
   "metadata": {}
  },
  {
   "cell_type": "code",
   "execution_count": 7,
   "source": [
    "import numpy as np\r\n",
    "from tqdm import tqdm\r\n",
    "import os\r\n",
    "\r\n",
    "def fit(model, optimizer, train_dl, val_dl, epochs=1, device=torch.device('cpu')):\r\n",
    "\r\n",
    "  if not os.path.exists(DATA_OUT_PATH):\r\n",
    "    os.makedirs(DATA_OUT_PATH)\r\n",
    "    print('--- Directory creation completed successfully ---')\r\n",
    "  else:\r\n",
    "    print('--- Directory already exists ---')\r\n",
    "  \r\n",
    "  # epoch당 average training loss를 track\r\n",
    "  # epoch당 average validation loss를 track\r\n",
    "  avg_train_losses = []\r\n",
    "  avg_valid_losses = []\r\n",
    "  \r\n",
    "  for i in range(epochs):\r\n",
    "\r\n",
    "    print(f'\\n--- Starting epoch #{i+1} ---')\r\n",
    "\r\n",
    "    model.train()\r\n",
    "    \r\n",
    "    # 한 epoch 동안 배치 손실과 배치 크기를 추적을 위한 리스트 생성\r\n",
    "    losses = []\r\n",
    "    nums = []\r\n",
    "\r\n",
    "    for xb in tqdm(train_dl, desc=\"Training\"):\r\n",
    "      # 배치를 훈련 장치로 이동\r\n",
    "      inputs = xb.to(device)\r\n",
    "\r\n",
    "      # 토큰 ID, 세그먼트 ID 및 정답(레이블)을 사용하여 모델을 호출\r\n",
    "      outputs = model(inputs[:,0,:], token_type_ids=inputs[:,1,:], labels=inputs[:,2,:])\r\n",
    "      \r\n",
    "      # 목록에 손실 및 배치 크기를 추가\r\n",
    "      loss = outputs[0]\r\n",
    "      losses.append(loss.item())\r\n",
    "      nums.append(len(xb))\r\n",
    "\r\n",
    "      loss.backward()\r\n",
    "\r\n",
    "      optimizer.step()\r\n",
    "      model.zero_grad()\r\n",
    "\r\n",
    "    # 한 epoch 동안의 평균 비용을 계산\r\n",
    "    train_cost = np.sum(np.multiply(losses, nums)) / sum(nums)\r\n",
    "    avg_train_losses.append(train_cost)\r\n",
    "\r\n",
    "    # 이제 유효성 검사를 위해 동일한 작업을 수행\r\n",
    "    model.eval()\r\n",
    "    \r\n",
    "    with torch.no_grad():\r\n",
    "      losses = []\r\n",
    "      nums = []\r\n",
    "\r\n",
    "      for xb in tqdm(val_dl, desc=\"Validation\"):\r\n",
    "        inputs = xb.to(device)\r\n",
    "        outputs = model(inputs[:,0,:], token_type_ids=inputs[:,1,:], labels=inputs[:,2,:])\r\n",
    "        losses.append(outputs[0].item())\r\n",
    "        nums.append(len(xb))\r\n",
    "\r\n",
    "    val_cost = np.sum(np.multiply(losses, nums)) / sum(nums)\r\n",
    "    avg_valid_losses.append(val_cost)\r\n",
    "    \r\n",
    "    print(f'\\n--- Epoch #{i+1} finished --- Training cost: {train_cost} / Validation cost: {val_cost}')\r\n",
    "  \r\n",
    "    if (i + 1) % 1 == 0 :\r\n",
    "      torch.save(model.state_dict(), DATA_OUT_PATH + '/' + TRAIN_DATA_NAME + '_' + f'{i+1}epoch' + '_' + 'model.pth')\r\n",
    "      print(f'\\n--- Epoch #{i+1} Saving complete ! ---')\r\n",
    "      \r\n",
    "    torch.cuda.empty_cache()\r\n",
    "      \r\n",
    "  return avg_train_losses, avg_valid_losses \r\n"
   ],
   "outputs": [],
   "metadata": {}
  },
  {
   "cell_type": "code",
   "execution_count": 8,
   "source": [
    "from transformers import AdamW\r\n",
    "\r\n",
    "# Move the model to the GPU:\r\n",
    "device = torch.device('cuda')\r\n",
    "model.to(device)\r\n",
    "\r\n",
    "# Fine-tune GPT2 for 5 epochs: \r\n",
    "optimizer = AdamW(model.parameters()) # 트랜스포머의 AdamW\r\n",
    "train_loss, valid_loss = fit(model, optimizer, train_loader, val_loader, epochs=10, device=device)"
   ],
   "outputs": [
    {
     "output_type": "stream",
     "name": "stderr",
     "text": [
      "Training:   0%|          | 0/295 [00:00<?, ?it/s]"
     ]
    },
    {
     "output_type": "stream",
     "name": "stdout",
     "text": [
      "--- Directory already exists ---\n",
      "\n",
      "--- Starting epoch #1 ---\n"
     ]
    },
    {
     "output_type": "stream",
     "name": "stderr",
     "text": [
      "Training: 100%|██████████| 295/295 [01:20<00:00,  3.66it/s]\n",
      "Validation: 100%|██████████| 17/17 [00:02<00:00,  5.69it/s]\n"
     ]
    },
    {
     "output_type": "stream",
     "name": "stdout",
     "text": [
      "\n",
      "--- Epoch #1 finished --- Training cost: 6.4458632502027715 / Validation cost: 5.814101754254057\n"
     ]
    },
    {
     "output_type": "stream",
     "name": "stderr",
     "text": [
      "Training:   0%|          | 1/295 [00:00<00:34,  8.54it/s]"
     ]
    },
    {
     "output_type": "stream",
     "name": "stdout",
     "text": [
      "\n",
      "--- Epoch #1 Saving complete ! ---\n",
      "\n",
      "--- Starting epoch #2 ---\n"
     ]
    },
    {
     "output_type": "stream",
     "name": "stderr",
     "text": [
      "Training: 100%|██████████| 295/295 [01:19<00:00,  3.70it/s]\n",
      "Validation: 100%|██████████| 17/17 [00:02<00:00,  5.91it/s]\n"
     ]
    },
    {
     "output_type": "stream",
     "name": "stdout",
     "text": [
      "\n",
      "--- Epoch #2 finished --- Training cost: 5.525076721456232 / Validation cost: 5.5978820742541595\n"
     ]
    },
    {
     "output_type": "stream",
     "name": "stderr",
     "text": [
      "Training:   0%|          | 1/295 [00:00<00:54,  5.40it/s]"
     ]
    },
    {
     "output_type": "stream",
     "name": "stdout",
     "text": [
      "\n",
      "--- Epoch #2 Saving complete ! ---\n",
      "\n",
      "--- Starting epoch #3 ---\n"
     ]
    },
    {
     "output_type": "stream",
     "name": "stderr",
     "text": [
      "Training: 100%|██████████| 295/295 [01:19<00:00,  3.69it/s]\n",
      "Validation: 100%|██████████| 17/17 [00:02<00:00,  5.89it/s]\n"
     ]
    },
    {
     "output_type": "stream",
     "name": "stdout",
     "text": [
      "\n",
      "--- Epoch #3 finished --- Training cost: 5.1280383662439615 / Validation cost: 5.478004237167708\n"
     ]
    },
    {
     "output_type": "stream",
     "name": "stderr",
     "text": [
      "Training:   0%|          | 1/295 [00:00<00:35,  8.40it/s]"
     ]
    },
    {
     "output_type": "stream",
     "name": "stdout",
     "text": [
      "\n",
      "--- Epoch #3 Saving complete ! ---\n",
      "\n",
      "--- Starting epoch #4 ---\n"
     ]
    },
    {
     "output_type": "stream",
     "name": "stderr",
     "text": [
      "Training: 100%|██████████| 295/295 [01:20<00:00,  3.68it/s]\n",
      "Validation: 100%|██████████| 17/17 [00:02<00:00,  5.87it/s]\n"
     ]
    },
    {
     "output_type": "stream",
     "name": "stdout",
     "text": [
      "\n",
      "--- Epoch #4 finished --- Training cost: 4.787898893411916 / Validation cost: 5.3955201192666555\n"
     ]
    },
    {
     "output_type": "stream",
     "name": "stderr",
     "text": [
      "Training:   0%|          | 1/295 [00:00<00:35,  8.19it/s]"
     ]
    },
    {
     "output_type": "stream",
     "name": "stdout",
     "text": [
      "\n",
      "--- Epoch #4 Saving complete ! ---\n",
      "\n",
      "--- Starting epoch #5 ---\n"
     ]
    },
    {
     "output_type": "stream",
     "name": "stderr",
     "text": [
      "Training: 100%|██████████| 295/295 [01:20<00:00,  3.68it/s]\n",
      "Validation: 100%|██████████| 17/17 [00:02<00:00,  5.87it/s]\n"
     ]
    },
    {
     "output_type": "stream",
     "name": "stdout",
     "text": [
      "\n",
      "--- Epoch #5 finished --- Training cost: 4.4664852998973075 / Validation cost: 5.449938428310948\n"
     ]
    },
    {
     "output_type": "stream",
     "name": "stderr",
     "text": [
      "Training:   0%|          | 1/295 [00:00<00:34,  8.47it/s]"
     ]
    },
    {
     "output_type": "stream",
     "name": "stdout",
     "text": [
      "\n",
      "--- Epoch #5 Saving complete ! ---\n",
      "\n",
      "--- Starting epoch #6 ---\n"
     ]
    },
    {
     "output_type": "stream",
     "name": "stderr",
     "text": [
      "Training: 100%|██████████| 295/295 [01:20<00:00,  3.67it/s]\n",
      "Validation: 100%|██████████| 17/17 [00:02<00:00,  5.86it/s]\n"
     ]
    },
    {
     "output_type": "stream",
     "name": "stdout",
     "text": [
      "\n",
      "--- Epoch #6 finished --- Training cost: 4.139681378987711 / Validation cost: 5.476181689109511\n"
     ]
    },
    {
     "output_type": "stream",
     "name": "stderr",
     "text": [
      "Training:   0%|          | 1/295 [00:00<00:34,  8.47it/s]"
     ]
    },
    {
     "output_type": "stream",
     "name": "stdout",
     "text": [
      "\n",
      "--- Epoch #6 Saving complete ! ---\n",
      "\n",
      "--- Starting epoch #7 ---\n"
     ]
    },
    {
     "output_type": "stream",
     "name": "stderr",
     "text": [
      "Training: 100%|██████████| 295/295 [01:20<00:00,  3.67it/s]\n",
      "Validation: 100%|██████████| 17/17 [00:02<00:00,  5.86it/s]\n"
     ]
    },
    {
     "output_type": "stream",
     "name": "stdout",
     "text": [
      "\n",
      "--- Epoch #7 finished --- Training cost: 3.807235497043571 / Validation cost: 5.544828393077123\n"
     ]
    },
    {
     "output_type": "stream",
     "name": "stderr",
     "text": [
      "Training:   0%|          | 1/295 [00:00<00:34,  8.47it/s]"
     ]
    },
    {
     "output_type": "stream",
     "name": "stdout",
     "text": [
      "\n",
      "--- Epoch #7 Saving complete ! ---\n",
      "\n",
      "--- Starting epoch #8 ---\n"
     ]
    },
    {
     "output_type": "stream",
     "name": "stderr",
     "text": [
      "Training: 100%|██████████| 295/295 [01:20<00:00,  3.67it/s]\n",
      "Validation: 100%|██████████| 17/17 [00:02<00:00,  5.86it/s]\n"
     ]
    },
    {
     "output_type": "stream",
     "name": "stdout",
     "text": [
      "\n",
      "--- Epoch #8 finished --- Training cost: 3.483561254065695 / Validation cost: 5.7006409768839825\n"
     ]
    },
    {
     "output_type": "stream",
     "name": "stderr",
     "text": [
      "Training:   0%|          | 1/295 [00:00<00:35,  8.40it/s]"
     ]
    },
    {
     "output_type": "stream",
     "name": "stdout",
     "text": [
      "\n",
      "--- Epoch #8 Saving complete ! ---\n",
      "\n",
      "--- Starting epoch #9 ---\n"
     ]
    },
    {
     "output_type": "stream",
     "name": "stderr",
     "text": [
      "Training: 100%|██████████| 295/295 [01:20<00:00,  3.67it/s]\n",
      "Validation: 100%|██████████| 17/17 [00:02<00:00,  5.86it/s]\n"
     ]
    },
    {
     "output_type": "stream",
     "name": "stdout",
     "text": [
      "\n",
      "--- Epoch #9 finished --- Training cost: 3.1987610565270455 / Validation cost: 5.7428745604653395\n"
     ]
    },
    {
     "output_type": "stream",
     "name": "stderr",
     "text": [
      "Training:   0%|          | 1/295 [00:00<00:35,  8.40it/s]"
     ]
    },
    {
     "output_type": "stream",
     "name": "stdout",
     "text": [
      "\n",
      "--- Epoch #9 Saving complete ! ---\n",
      "\n",
      "--- Starting epoch #10 ---\n"
     ]
    },
    {
     "output_type": "stream",
     "name": "stderr",
     "text": [
      "Training: 100%|██████████| 295/295 [01:21<00:00,  3.63it/s]\n",
      "Validation: 100%|██████████| 17/17 [00:02<00:00,  5.76it/s]\n"
     ]
    },
    {
     "output_type": "stream",
     "name": "stdout",
     "text": [
      "\n",
      "--- Epoch #10 finished --- Training cost: 2.929358756384271 / Validation cost: 5.988755291654863\n",
      "\n",
      "--- Epoch #10 Saving complete ! ---\n"
     ]
    }
   ],
   "metadata": {}
  },
  {
   "cell_type": "code",
   "execution_count": 9,
   "source": [
    "import matplotlib.pyplot as plt\r\n",
    "\r\n",
    "\r\n",
    "# 훈련이 진행되는 과정에 따라 loss를 시각화\r\n",
    "fig = plt.figure(figsize=(10,8))\r\n",
    "plt.plot(range(1, len(train_loss) + 1), train_loss, label='Training Loss')\r\n",
    "plt.plot(range(1, len(valid_loss) + 1), valid_loss, label='Validation Loss')\r\n",
    "\r\n",
    "# validation loss의 최저값 지점을 찾기\r\n",
    "minposs = valid_loss.index(min(valid_loss)) + 1\r\n",
    "plt.axvline(minposs, linestyle='--', color='r',label='Early Stopping Checkpoint')\r\n",
    "\r\n",
    "plt.xlabel('epochs')\r\n",
    "plt.ylabel('loss')\r\n",
    "plt.ylim(0, 8) # 일정한 scale\r\n",
    "plt.xlim(0, len(train_loss)+1) # 일정한 scale\r\n",
    "plt.grid(True)\r\n",
    "plt.legend()\r\n",
    "plt.tight_layout()\r\n",
    "plt.show()\r\n",
    "\r\n",
    "if not os.path.exists(PLOT_OUT_PATH):\r\n",
    "    os.makedirs(PLOT_OUT_PATH)\r\n",
    "    print('--- Directory creation completed successfully ---')\r\n",
    "    \r\n",
    "else:\r\n",
    "    print('--- Directory already exists ---')\r\n",
    "\r\n",
    "fig.savefig( PLOT_OUT_PATH + '/' + TRAIN_DATA_NAME + '_loss_plot.png', bbox_inches = 'tight')"
   ],
   "outputs": [
    {
     "output_type": "display_data",
     "data": {
      "text/plain": [
       "<Figure size 720x576 with 1 Axes>"
      ],
      "image/png": "[encoded data removed]"
     },
     "metadata": {}
    },
    {
     "output_type": "stream",
     "name": "stdout",
     "text": [
      "--- Directory already exists ---\n"
     ]
    }
   ],
   "metadata": {}
  }
 ],
 "metadata": {
  "orig_nbformat": 4,
  "language_info": {
   "name": "python",
   "version": "3.7.10",
   "mimetype": "text/x-python",
   "codemirror_mode": {
    "name": "ipython",
    "version": 3
   },
   "pygments_lexer": "ipython3",
   "nbconvert_exporter": "python",
   "file_extension": ".py"
  },
  "kernelspec": {
   "name": "python3",
   "display_name": "Python 3.7.10 64-bit ('AI_exam': conda)"
  },
  "interpreter": {
   "hash": "293ef13038b1144d4811de228cdfb91e615f2f48e1a0c87d3a386cf88ee0761d"
  }
 },
 "nbformat": 4,
 "nbformat_minor": 2
}